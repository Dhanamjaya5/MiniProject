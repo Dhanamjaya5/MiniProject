{
 "cells": [
  {
   "cell_type": "code",
   "execution_count": 1,
   "id": "d026f47e",
   "metadata": {},
   "outputs": [
    {
     "name": "stdout",
     "output_type": "stream",
     "text": [
      "Requirement already satisfied: transformers in /Users/pranavchimmula/opt/anaconda3/lib/python3.9/site-packages (4.18.0)\n",
      "Requirement already satisfied: huggingface-hub<1.0,>=0.1.0 in /Users/pranavchimmula/opt/anaconda3/lib/python3.9/site-packages (from transformers) (0.5.1)\n",
      "Requirement already satisfied: requests in /Users/pranavchimmula/opt/anaconda3/lib/python3.9/site-packages (from transformers) (2.26.0)\n",
      "Requirement already satisfied: sacremoses in /Users/pranavchimmula/opt/anaconda3/lib/python3.9/site-packages (from transformers) (0.0.49)\n",
      "Requirement already satisfied: packaging>=20.0 in /Users/pranavchimmula/opt/anaconda3/lib/python3.9/site-packages (from transformers) (21.0)\n",
      "Requirement already satisfied: pyyaml>=5.1 in /Users/pranavchimmula/opt/anaconda3/lib/python3.9/site-packages (from transformers) (6.0)\n",
      "Requirement already satisfied: tokenizers!=0.11.3,<0.13,>=0.11.1 in /Users/pranavchimmula/opt/anaconda3/lib/python3.9/site-packages (from transformers) (0.11.6)\n",
      "Requirement already satisfied: filelock in /Users/pranavchimmula/opt/anaconda3/lib/python3.9/site-packages (from transformers) (3.3.1)\n",
      "Requirement already satisfied: tqdm>=4.27 in /Users/pranavchimmula/opt/anaconda3/lib/python3.9/site-packages (from transformers) (4.62.3)\n",
      "Requirement already satisfied: regex!=2019.12.17 in /Users/pranavchimmula/opt/anaconda3/lib/python3.9/site-packages (from transformers) (2021.8.3)\n",
      "Requirement already satisfied: numpy>=1.17 in /Users/pranavchimmula/opt/anaconda3/lib/python3.9/site-packages (from transformers) (1.20.3)\n",
      "Requirement already satisfied: typing-extensions>=3.7.4.3 in /Users/pranavchimmula/opt/anaconda3/lib/python3.9/site-packages (from huggingface-hub<1.0,>=0.1.0->transformers) (3.10.0.2)\n",
      "Requirement already satisfied: pyparsing>=2.0.2 in /Users/pranavchimmula/opt/anaconda3/lib/python3.9/site-packages (from packaging>=20.0->transformers) (3.0.4)\n",
      "Requirement already satisfied: charset-normalizer~=2.0.0 in /Users/pranavchimmula/opt/anaconda3/lib/python3.9/site-packages (from requests->transformers) (2.0.4)\n",
      "Requirement already satisfied: idna<4,>=2.5 in /Users/pranavchimmula/opt/anaconda3/lib/python3.9/site-packages (from requests->transformers) (3.2)\n",
      "Requirement already satisfied: certifi>=2017.4.17 in /Users/pranavchimmula/opt/anaconda3/lib/python3.9/site-packages (from requests->transformers) (2021.10.8)\n",
      "Requirement already satisfied: urllib3<1.27,>=1.21.1 in /Users/pranavchimmula/opt/anaconda3/lib/python3.9/site-packages (from requests->transformers) (1.26.7)\n",
      "Requirement already satisfied: click in /Users/pranavchimmula/opt/anaconda3/lib/python3.9/site-packages (from sacremoses->transformers) (8.0.3)\n",
      "Requirement already satisfied: joblib in /Users/pranavchimmula/opt/anaconda3/lib/python3.9/site-packages (from sacremoses->transformers) (1.1.0)\n",
      "Requirement already satisfied: six in /Users/pranavchimmula/opt/anaconda3/lib/python3.9/site-packages (from sacremoses->transformers) (1.16.0)\n"
     ]
    }
   ],
   "source": [
    "!pip install transformers"
   ]
  },
  {
   "cell_type": "code",
   "execution_count": 2,
   "id": "779bb5ae",
   "metadata": {},
   "outputs": [
    {
     "name": "stdout",
     "output_type": "stream",
     "text": [
      "Requirement already satisfied: spacy in /Users/pranavchimmula/opt/anaconda3/lib/python3.9/site-packages (3.2.4)\n",
      "Requirement already satisfied: tqdm<5.0.0,>=4.38.0 in /Users/pranavchimmula/opt/anaconda3/lib/python3.9/site-packages (from spacy) (4.62.3)\n",
      "Requirement already satisfied: blis<0.8.0,>=0.4.0 in /Users/pranavchimmula/opt/anaconda3/lib/python3.9/site-packages (from spacy) (0.7.7)\n",
      "Requirement already satisfied: cymem<2.1.0,>=2.0.2 in /Users/pranavchimmula/opt/anaconda3/lib/python3.9/site-packages (from spacy) (2.0.6)\n",
      "Requirement already satisfied: pydantic!=1.8,!=1.8.1,<1.9.0,>=1.7.4 in /Users/pranavchimmula/opt/anaconda3/lib/python3.9/site-packages (from spacy) (1.8.2)\n",
      "Requirement already satisfied: numpy>=1.15.0 in /Users/pranavchimmula/opt/anaconda3/lib/python3.9/site-packages (from spacy) (1.20.3)\n",
      "Requirement already satisfied: wasabi<1.1.0,>=0.8.1 in /Users/pranavchimmula/opt/anaconda3/lib/python3.9/site-packages (from spacy) (0.9.1)\n",
      "Requirement already satisfied: srsly<3.0.0,>=2.4.1 in /Users/pranavchimmula/opt/anaconda3/lib/python3.9/site-packages (from spacy) (2.4.2)\n",
      "Requirement already satisfied: thinc<8.1.0,>=8.0.12 in /Users/pranavchimmula/opt/anaconda3/lib/python3.9/site-packages (from spacy) (8.0.15)\n",
      "Requirement already satisfied: requests<3.0.0,>=2.13.0 in /Users/pranavchimmula/opt/anaconda3/lib/python3.9/site-packages (from spacy) (2.26.0)\n",
      "Requirement already satisfied: langcodes<4.0.0,>=3.2.0 in /Users/pranavchimmula/opt/anaconda3/lib/python3.9/site-packages (from spacy) (3.3.0)\n",
      "Requirement already satisfied: murmurhash<1.1.0,>=0.28.0 in /Users/pranavchimmula/opt/anaconda3/lib/python3.9/site-packages (from spacy) (1.0.6)\n",
      "Requirement already satisfied: catalogue<2.1.0,>=2.0.6 in /Users/pranavchimmula/opt/anaconda3/lib/python3.9/site-packages (from spacy) (2.0.7)\n",
      "Requirement already satisfied: typer<0.5.0,>=0.3.0 in /Users/pranavchimmula/opt/anaconda3/lib/python3.9/site-packages (from spacy) (0.4.1)\n",
      "Requirement already satisfied: preshed<3.1.0,>=3.0.2 in /Users/pranavchimmula/opt/anaconda3/lib/python3.9/site-packages (from spacy) (3.0.6)\n",
      "Requirement already satisfied: spacy-legacy<3.1.0,>=3.0.8 in /Users/pranavchimmula/opt/anaconda3/lib/python3.9/site-packages (from spacy) (3.0.9)\n",
      "Requirement already satisfied: click<8.1.0 in /Users/pranavchimmula/opt/anaconda3/lib/python3.9/site-packages (from spacy) (8.0.3)\n",
      "Requirement already satisfied: jinja2 in /Users/pranavchimmula/opt/anaconda3/lib/python3.9/site-packages (from spacy) (2.11.3)\n",
      "Requirement already satisfied: packaging>=20.0 in /Users/pranavchimmula/opt/anaconda3/lib/python3.9/site-packages (from spacy) (21.0)\n",
      "Requirement already satisfied: spacy-loggers<2.0.0,>=1.0.0 in /Users/pranavchimmula/opt/anaconda3/lib/python3.9/site-packages (from spacy) (1.0.2)\n",
      "Requirement already satisfied: setuptools in /Users/pranavchimmula/opt/anaconda3/lib/python3.9/site-packages (from spacy) (58.0.4)\n",
      "Requirement already satisfied: pathy>=0.3.5 in /Users/pranavchimmula/opt/anaconda3/lib/python3.9/site-packages (from spacy) (0.6.1)\n",
      "Requirement already satisfied: pyparsing>=2.0.2 in /Users/pranavchimmula/opt/anaconda3/lib/python3.9/site-packages (from packaging>=20.0->spacy) (3.0.4)\n",
      "Requirement already satisfied: smart-open<6.0.0,>=5.0.0 in /Users/pranavchimmula/opt/anaconda3/lib/python3.9/site-packages (from pathy>=0.3.5->spacy) (5.2.1)\n",
      "Requirement already satisfied: typing-extensions>=3.7.4.3 in /Users/pranavchimmula/opt/anaconda3/lib/python3.9/site-packages (from pydantic!=1.8,!=1.8.1,<1.9.0,>=1.7.4->spacy) (3.10.0.2)\n",
      "Requirement already satisfied: urllib3<1.27,>=1.21.1 in /Users/pranavchimmula/opt/anaconda3/lib/python3.9/site-packages (from requests<3.0.0,>=2.13.0->spacy) (1.26.7)\n",
      "Requirement already satisfied: idna<4,>=2.5 in /Users/pranavchimmula/opt/anaconda3/lib/python3.9/site-packages (from requests<3.0.0,>=2.13.0->spacy) (3.2)\n",
      "Requirement already satisfied: certifi>=2017.4.17 in /Users/pranavchimmula/opt/anaconda3/lib/python3.9/site-packages (from requests<3.0.0,>=2.13.0->spacy) (2021.10.8)\n",
      "Requirement already satisfied: charset-normalizer~=2.0.0 in /Users/pranavchimmula/opt/anaconda3/lib/python3.9/site-packages (from requests<3.0.0,>=2.13.0->spacy) (2.0.4)\n",
      "Requirement already satisfied: MarkupSafe>=0.23 in /Users/pranavchimmula/opt/anaconda3/lib/python3.9/site-packages (from jinja2->spacy) (1.1.1)\n"
     ]
    }
   ],
   "source": [
    "!pip install spacy"
   ]
  },
  {
   "cell_type": "code",
   "execution_count": 3,
   "id": "9ee3c741",
   "metadata": {},
   "outputs": [
    {
     "name": "stdout",
     "output_type": "stream",
     "text": [
      "Requirement already satisfied: bert-extractive-summarizer in /Users/pranavchimmula/opt/anaconda3/lib/python3.9/site-packages (0.10.1)\n",
      "Requirement already satisfied: transformers in /Users/pranavchimmula/opt/anaconda3/lib/python3.9/site-packages (from bert-extractive-summarizer) (4.18.0)\n",
      "Requirement already satisfied: spacy in /Users/pranavchimmula/opt/anaconda3/lib/python3.9/site-packages (from bert-extractive-summarizer) (3.2.4)\n",
      "Requirement already satisfied: scikit-learn in /Users/pranavchimmula/opt/anaconda3/lib/python3.9/site-packages (from bert-extractive-summarizer) (0.24.2)\n",
      "Requirement already satisfied: joblib>=0.11 in /Users/pranavchimmula/opt/anaconda3/lib/python3.9/site-packages (from scikit-learn->bert-extractive-summarizer) (1.1.0)\n",
      "Requirement already satisfied: scipy>=0.19.1 in /Users/pranavchimmula/opt/anaconda3/lib/python3.9/site-packages (from scikit-learn->bert-extractive-summarizer) (1.7.1)\n",
      "Requirement already satisfied: threadpoolctl>=2.0.0 in /Users/pranavchimmula/opt/anaconda3/lib/python3.9/site-packages (from scikit-learn->bert-extractive-summarizer) (2.2.0)\n",
      "Requirement already satisfied: numpy>=1.13.3 in /Users/pranavchimmula/opt/anaconda3/lib/python3.9/site-packages (from scikit-learn->bert-extractive-summarizer) (1.20.3)\n",
      "Requirement already satisfied: blis<0.8.0,>=0.4.0 in /Users/pranavchimmula/opt/anaconda3/lib/python3.9/site-packages (from spacy->bert-extractive-summarizer) (0.7.7)\n",
      "Requirement already satisfied: tqdm<5.0.0,>=4.38.0 in /Users/pranavchimmula/opt/anaconda3/lib/python3.9/site-packages (from spacy->bert-extractive-summarizer) (4.62.3)\n",
      "Requirement already satisfied: typer<0.5.0,>=0.3.0 in /Users/pranavchimmula/opt/anaconda3/lib/python3.9/site-packages (from spacy->bert-extractive-summarizer) (0.4.1)\n",
      "Requirement already satisfied: cymem<2.1.0,>=2.0.2 in /Users/pranavchimmula/opt/anaconda3/lib/python3.9/site-packages (from spacy->bert-extractive-summarizer) (2.0.6)\n",
      "Requirement already satisfied: thinc<8.1.0,>=8.0.12 in /Users/pranavchimmula/opt/anaconda3/lib/python3.9/site-packages (from spacy->bert-extractive-summarizer) (8.0.15)\n",
      "Requirement already satisfied: pydantic!=1.8,!=1.8.1,<1.9.0,>=1.7.4 in /Users/pranavchimmula/opt/anaconda3/lib/python3.9/site-packages (from spacy->bert-extractive-summarizer) (1.8.2)\n",
      "Requirement already satisfied: requests<3.0.0,>=2.13.0 in /Users/pranavchimmula/opt/anaconda3/lib/python3.9/site-packages (from spacy->bert-extractive-summarizer) (2.26.0)\n",
      "Requirement already satisfied: catalogue<2.1.0,>=2.0.6 in /Users/pranavchimmula/opt/anaconda3/lib/python3.9/site-packages (from spacy->bert-extractive-summarizer) (2.0.7)\n",
      "Requirement already satisfied: jinja2 in /Users/pranavchimmula/opt/anaconda3/lib/python3.9/site-packages (from spacy->bert-extractive-summarizer) (2.11.3)\n",
      "Requirement already satisfied: click<8.1.0 in /Users/pranavchimmula/opt/anaconda3/lib/python3.9/site-packages (from spacy->bert-extractive-summarizer) (8.0.3)\n",
      "Requirement already satisfied: spacy-legacy<3.1.0,>=3.0.8 in /Users/pranavchimmula/opt/anaconda3/lib/python3.9/site-packages (from spacy->bert-extractive-summarizer) (3.0.9)\n",
      "Requirement already satisfied: spacy-loggers<2.0.0,>=1.0.0 in /Users/pranavchimmula/opt/anaconda3/lib/python3.9/site-packages (from spacy->bert-extractive-summarizer) (1.0.2)\n",
      "Requirement already satisfied: wasabi<1.1.0,>=0.8.1 in /Users/pranavchimmula/opt/anaconda3/lib/python3.9/site-packages (from spacy->bert-extractive-summarizer) (0.9.1)\n",
      "Requirement already satisfied: murmurhash<1.1.0,>=0.28.0 in /Users/pranavchimmula/opt/anaconda3/lib/python3.9/site-packages (from spacy->bert-extractive-summarizer) (1.0.6)\n",
      "Requirement already satisfied: preshed<3.1.0,>=3.0.2 in /Users/pranavchimmula/opt/anaconda3/lib/python3.9/site-packages (from spacy->bert-extractive-summarizer) (3.0.6)\n",
      "Requirement already satisfied: langcodes<4.0.0,>=3.2.0 in /Users/pranavchimmula/opt/anaconda3/lib/python3.9/site-packages (from spacy->bert-extractive-summarizer) (3.3.0)\n",
      "Requirement already satisfied: pathy>=0.3.5 in /Users/pranavchimmula/opt/anaconda3/lib/python3.9/site-packages (from spacy->bert-extractive-summarizer) (0.6.1)\n",
      "Requirement already satisfied: packaging>=20.0 in /Users/pranavchimmula/opt/anaconda3/lib/python3.9/site-packages (from spacy->bert-extractive-summarizer) (21.0)\n",
      "Requirement already satisfied: srsly<3.0.0,>=2.4.1 in /Users/pranavchimmula/opt/anaconda3/lib/python3.9/site-packages (from spacy->bert-extractive-summarizer) (2.4.2)\n",
      "Requirement already satisfied: setuptools in /Users/pranavchimmula/opt/anaconda3/lib/python3.9/site-packages (from spacy->bert-extractive-summarizer) (58.0.4)\n",
      "Requirement already satisfied: pyparsing>=2.0.2 in /Users/pranavchimmula/opt/anaconda3/lib/python3.9/site-packages (from packaging>=20.0->spacy->bert-extractive-summarizer) (3.0.4)\n",
      "Requirement already satisfied: smart-open<6.0.0,>=5.0.0 in /Users/pranavchimmula/opt/anaconda3/lib/python3.9/site-packages (from pathy>=0.3.5->spacy->bert-extractive-summarizer) (5.2.1)\n",
      "Requirement already satisfied: typing-extensions>=3.7.4.3 in /Users/pranavchimmula/opt/anaconda3/lib/python3.9/site-packages (from pydantic!=1.8,!=1.8.1,<1.9.0,>=1.7.4->spacy->bert-extractive-summarizer) (3.10.0.2)\n",
      "Requirement already satisfied: charset-normalizer~=2.0.0 in /Users/pranavchimmula/opt/anaconda3/lib/python3.9/site-packages (from requests<3.0.0,>=2.13.0->spacy->bert-extractive-summarizer) (2.0.4)\n",
      "Requirement already satisfied: certifi>=2017.4.17 in /Users/pranavchimmula/opt/anaconda3/lib/python3.9/site-packages (from requests<3.0.0,>=2.13.0->spacy->bert-extractive-summarizer) (2021.10.8)\n",
      "Requirement already satisfied: idna<4,>=2.5 in /Users/pranavchimmula/opt/anaconda3/lib/python3.9/site-packages (from requests<3.0.0,>=2.13.0->spacy->bert-extractive-summarizer) (3.2)\n",
      "Requirement already satisfied: urllib3<1.27,>=1.21.1 in /Users/pranavchimmula/opt/anaconda3/lib/python3.9/site-packages (from requests<3.0.0,>=2.13.0->spacy->bert-extractive-summarizer) (1.26.7)\n",
      "Requirement already satisfied: MarkupSafe>=0.23 in /Users/pranavchimmula/opt/anaconda3/lib/python3.9/site-packages (from jinja2->spacy->bert-extractive-summarizer) (1.1.1)\n",
      "Requirement already satisfied: sacremoses in /Users/pranavchimmula/opt/anaconda3/lib/python3.9/site-packages (from transformers->bert-extractive-summarizer) (0.0.49)\n",
      "Requirement already satisfied: huggingface-hub<1.0,>=0.1.0 in /Users/pranavchimmula/opt/anaconda3/lib/python3.9/site-packages (from transformers->bert-extractive-summarizer) (0.5.1)\n",
      "Requirement already satisfied: pyyaml>=5.1 in /Users/pranavchimmula/opt/anaconda3/lib/python3.9/site-packages (from transformers->bert-extractive-summarizer) (6.0)\n",
      "Requirement already satisfied: regex!=2019.12.17 in /Users/pranavchimmula/opt/anaconda3/lib/python3.9/site-packages (from transformers->bert-extractive-summarizer) (2021.8.3)\n",
      "Requirement already satisfied: filelock in /Users/pranavchimmula/opt/anaconda3/lib/python3.9/site-packages (from transformers->bert-extractive-summarizer) (3.3.1)\n",
      "Requirement already satisfied: tokenizers!=0.11.3,<0.13,>=0.11.1 in /Users/pranavchimmula/opt/anaconda3/lib/python3.9/site-packages (from transformers->bert-extractive-summarizer) (0.11.6)\n",
      "Requirement already satisfied: six in /Users/pranavchimmula/opt/anaconda3/lib/python3.9/site-packages (from sacremoses->transformers->bert-extractive-summarizer) (1.16.0)\n"
     ]
    }
   ],
   "source": [
    "!pip install bert-extractive-summarizer"
   ]
  },
  {
   "cell_type": "code",
   "execution_count": 4,
   "id": "c0a74e73",
   "metadata": {},
   "outputs": [
    {
     "name": "stdout",
     "output_type": "stream",
     "text": [
      "Requirement already satisfied: torch in /Users/pranavchimmula/opt/anaconda3/lib/python3.9/site-packages (1.11.0)\r\n",
      "Requirement already satisfied: torchvision in /Users/pranavchimmula/opt/anaconda3/lib/python3.9/site-packages (0.12.0)\r\n",
      "Requirement already satisfied: torchaudio in /Users/pranavchimmula/opt/anaconda3/lib/python3.9/site-packages (0.11.0)\r\n",
      "Requirement already satisfied: typing-extensions in /Users/pranavchimmula/opt/anaconda3/lib/python3.9/site-packages (from torch) (3.10.0.2)\r\n",
      "Requirement already satisfied: requests in /Users/pranavchimmula/opt/anaconda3/lib/python3.9/site-packages (from torchvision) (2.26.0)\r\n",
      "Requirement already satisfied: pillow!=8.3.*,>=5.3.0 in /Users/pranavchimmula/opt/anaconda3/lib/python3.9/site-packages (from torchvision) (8.4.0)\r\n",
      "Requirement already satisfied: numpy in /Users/pranavchimmula/opt/anaconda3/lib/python3.9/site-packages (from torchvision) (1.20.3)\r\n",
      "Requirement already satisfied: charset-normalizer~=2.0.0 in /Users/pranavchimmula/opt/anaconda3/lib/python3.9/site-packages (from requests->torchvision) (2.0.4)\r\n",
      "Requirement already satisfied: certifi>=2017.4.17 in /Users/pranavchimmula/opt/anaconda3/lib/python3.9/site-packages (from requests->torchvision) (2021.10.8)\r\n",
      "Requirement already satisfied: idna<4,>=2.5 in /Users/pranavchimmula/opt/anaconda3/lib/python3.9/site-packages (from requests->torchvision) (3.2)\r\n",
      "Requirement already satisfied: urllib3<1.27,>=1.21.1 in /Users/pranavchimmula/opt/anaconda3/lib/python3.9/site-packages (from requests->torchvision) (1.26.7)\r\n"
     ]
    }
   ],
   "source": [
    "!pip install torch torchvision torchaudio"
   ]
  },
  {
   "cell_type": "code",
   "execution_count": 5,
   "id": "588f99c4",
   "metadata": {},
   "outputs": [
    {
     "name": "stdout",
     "output_type": "stream",
     "text": [
      "Requirement already satisfied: sentencepiece in /Users/pranavchimmula/opt/anaconda3/lib/python3.9/site-packages (0.1.96)\r\n"
     ]
    }
   ],
   "source": [
    "!pip install sentencepiece"
   ]
  },
  {
   "cell_type": "code",
   "execution_count": 6,
   "id": "07585d45",
   "metadata": {},
   "outputs": [],
   "source": [
    "import numpy as np\n",
    "import pandas as pd\n",
    "\n",
    "import matplotlib\n",
    "import matplotlib.pyplot as plt\n",
    "\n",
    "from summarizer import Summarizer,TransformerSummarizer\n",
    "from sklearn.metrics import accuracy_score\n",
    "\n",
    "import warnings\n",
    "warnings.filterwarnings('ignore')"
   ]
  },
  {
   "cell_type": "code",
   "execution_count": 11,
   "id": "c1119460",
   "metadata": {},
   "outputs": [
    {
     "data": {
      "text/html": [
       "<div>\n",
       "<style scoped>\n",
       "    .dataframe tbody tr th:only-of-type {\n",
       "        vertical-align: middle;\n",
       "    }\n",
       "\n",
       "    .dataframe tbody tr th {\n",
       "        vertical-align: top;\n",
       "    }\n",
       "\n",
       "    .dataframe thead th {\n",
       "        text-align: right;\n",
       "    }\n",
       "</style>\n",
       "<table border=\"1\" class=\"dataframe\">\n",
       "  <thead>\n",
       "    <tr style=\"text-align: right;\">\n",
       "      <th></th>\n",
       "      <th>text</th>\n",
       "      <th>env_problems</th>\n",
       "      <th>pollution</th>\n",
       "      <th>treatment</th>\n",
       "      <th>climate</th>\n",
       "      <th>biomonitoring</th>\n",
       "    </tr>\n",
       "  </thead>\n",
       "  <tbody>\n",
       "    <tr>\n",
       "      <th>0</th>\n",
       "      <td>In the Southern Bug basin wastewater is discha...</td>\n",
       "      <td>1</td>\n",
       "      <td>1</td>\n",
       "      <td>0</td>\n",
       "      <td>0</td>\n",
       "      <td>0</td>\n",
       "    </tr>\n",
       "    <tr>\n",
       "      <th>1</th>\n",
       "      <td>This amount is distributed as follows: urban a...</td>\n",
       "      <td>1</td>\n",
       "      <td>1</td>\n",
       "      <td>0</td>\n",
       "      <td>0</td>\n",
       "      <td>0</td>\n",
       "    </tr>\n",
       "    <tr>\n",
       "      <th>2</th>\n",
       "      <td>Despite the similar volumes of discharged wast...</td>\n",
       "      <td>1</td>\n",
       "      <td>1</td>\n",
       "      <td>0</td>\n",
       "      <td>0</td>\n",
       "      <td>0</td>\n",
       "    </tr>\n",
       "    <tr>\n",
       "      <th>3</th>\n",
       "      <td>They bring 84% of organic pollution 86% of pho...</td>\n",
       "      <td>1</td>\n",
       "      <td>1</td>\n",
       "      <td>0</td>\n",
       "      <td>0</td>\n",
       "      <td>0</td>\n",
       "    </tr>\n",
       "    <tr>\n",
       "      <th>4</th>\n",
       "      <td>The input of the industry is between 7–21% and...</td>\n",
       "      <td>1</td>\n",
       "      <td>1</td>\n",
       "      <td>0</td>\n",
       "      <td>0</td>\n",
       "      <td>0</td>\n",
       "    </tr>\n",
       "  </tbody>\n",
       "</table>\n",
       "</div>"
      ],
      "text/plain": [
       "                                                text  env_problems  pollution  \\\n",
       "0  In the Southern Bug basin wastewater is discha...             1          1   \n",
       "1  This amount is distributed as follows: urban a...             1          1   \n",
       "2  Despite the similar volumes of discharged wast...             1          1   \n",
       "3  They bring 84% of organic pollution 86% of pho...             1          1   \n",
       "4  The input of the industry is between 7–21% and...             1          1   \n",
       "\n",
       "   treatment  climate  biomonitoring  \n",
       "0          0        0              0  \n",
       "1          0        0              0  \n",
       "2          0        0              0  \n",
       "3          0        0              0  \n",
       "4          0        0              0  "
      ]
     },
     "execution_count": 11,
     "metadata": {},
     "output_type": "execute_result"
    }
   ],
   "source": [
    "df = pd.read_csv('../../../downloads/water_problem_nlp_en_for_Kaggle_100.csv.xls', delimiter=';', header=0)\n",
    "df = df.fillna(0)\n",
    "\n",
    "convert_dict = {'text': str, \n",
    "                'env_problems': int,\n",
    "                'pollution': int, \n",
    "                'treatment': int,\n",
    "                'climate': int,\n",
    "                'biomonitoring': int} \n",
    "  \n",
    "df = df.astype(convert_dict)\n",
    "df = df[:5]\n",
    "df"
   ]
  },
  {
   "cell_type": "code",
   "execution_count": 12,
   "id": "35efc918",
   "metadata": {},
   "outputs": [
    {
     "name": "stdout",
     "output_type": "stream",
     "text": [
      "<class 'pandas.core.frame.DataFrame'>\n",
      "RangeIndex: 5 entries, 0 to 4\n",
      "Data columns (total 6 columns):\n",
      " #   Column         Non-Null Count  Dtype \n",
      "---  ------         --------------  ----- \n",
      " 0   text           5 non-null      object\n",
      " 1   env_problems   5 non-null      int64 \n",
      " 2   pollution      5 non-null      int64 \n",
      " 3   treatment      5 non-null      int64 \n",
      " 4   climate        5 non-null      int64 \n",
      " 5   biomonitoring  5 non-null      int64 \n",
      "dtypes: int64(5), object(1)\n",
      "memory usage: 368.0+ bytes\n"
     ]
    }
   ],
   "source": [
    "df.info()"
   ]
  },
  {
   "cell_type": "code",
   "execution_count": 13,
   "id": "8391954c",
   "metadata": {},
   "outputs": [
    {
     "data": {
      "text/plain": [
       "0    In the Southern Bug basin wastewater is discha...\n",
       "1    This amount is distributed as follows: urban a...\n",
       "2    Despite the similar volumes of discharged wast...\n",
       "3    They bring 84% of organic pollution 86% of pho...\n",
       "4    The input of the industry is between 7–21% and...\n",
       "Name: text, dtype: object"
      ]
     },
     "execution_count": 13,
     "metadata": {},
     "output_type": "execute_result"
    }
   ],
   "source": [
    "df['text'].head(10)"
   ]
  },
  {
   "cell_type": "code",
   "execution_count": 14,
   "id": "9a592c78",
   "metadata": {},
   "outputs": [
    {
     "data": {
      "text/plain": [
       "291"
      ]
     },
     "execution_count": 14,
     "metadata": {},
     "output_type": "execute_result"
    }
   ],
   "source": [
    "df['text'].str.len().max()"
   ]
  },
  {
   "cell_type": "code",
   "execution_count": 15,
   "id": "648adfb2",
   "metadata": {},
   "outputs": [
    {
     "name": "stdout",
     "output_type": "stream",
     "text": [
      "Length of blocks = 410\n",
      "Length of blocks = 553\n",
      "\n",
      "Number of text blocks = 2\n",
      "\n",
      "Text blocks:\n",
      " ['In the Southern Bug basin wastewater is discharged from 341 organized sources (Map 5). In 2011 (reference year) 211 mln. m3 was discharged in total. This amount is distributed as follows: urban and rural housing wastewater treatment facilities (WWTPs - vodocanals) – 70 mln. m3 (57 users) industry – 50 mln. m3 (79 users) agriculture – 90 mln. m3 (193 users) other users – 1 mln. m3 (12 users) (Picture. 2.1). ', 'Despite the similar volumes of discharged wastewater major part of pollutants comes with communal WWTPs. They bring 84% of organic pollution 86% of phosphate ions and 84% of mineral nitrogen 91% of ammonia nitrogen 87% nitrate nitrogen and 79% nitrite nitrogen. The input of the industry is between 7–21% and agriculture has the lowest impact on water bodies - 0–6%. Of the 92 urban areas only 51 localities (55%) have centralized collection of communal waste waters and their monitoring. Among the 2878 villages 6 of them (0.2%) have such a monitoring.']\n"
     ]
    }
   ],
   "source": [
    "max_length = 400  # minimum characters in each block\n",
    "i = 0\n",
    "bodies = []\n",
    "while i < len(df):\n",
    "    body = \"\"\n",
    "    body_empty = True\n",
    "    while (len(body) < max_length) and (i < len(df)):\n",
    "        if body_empty:\n",
    "            body = df.loc[i,'text']\n",
    "            body_empty = False\n",
    "        else: body += \" \" + df.loc[i,'text']\n",
    "        i += 1\n",
    "    bodies.append(body)\n",
    "    print(\"Length of blocks =\", len(body))\n",
    "print(f\"\\nNumber of text blocks = {len(bodies)}\\n\")\n",
    "print(\"Text blocks:\\n\", bodies)"
   ]
  },
  {
   "cell_type": "code",
   "execution_count": 16,
   "id": "62d82f0b",
   "metadata": {},
   "outputs": [],
   "source": [
    "min_length_text = 40"
   ]
  },
  {
   "cell_type": "code",
   "execution_count": 17,
   "id": "3379e7b3",
   "metadata": {},
   "outputs": [
    {
     "data": {
      "application/vnd.jupyter.widget-view+json": {
       "model_id": "73be52b5c7774ebbb94368c554b1e02d",
       "version_major": 2,
       "version_minor": 0
      },
      "text/plain": [
       "Downloading:   0%|          | 0.00/760 [00:00<?, ?B/s]"
      ]
     },
     "metadata": {},
     "output_type": "display_data"
    },
    {
     "data": {
      "application/vnd.jupyter.widget-view+json": {
       "model_id": "8f7d589d2c9a462992a919a56c9c33e0",
       "version_major": 2,
       "version_minor": 0
      },
      "text/plain": [
       "Downloading:   0%|          | 0.00/445M [00:00<?, ?B/s]"
      ]
     },
     "metadata": {},
     "output_type": "display_data"
    },
    {
     "name": "stderr",
     "output_type": "stream",
     "text": [
      "Some weights of the model checkpoint at xlnet-base-cased were not used when initializing XLNetModel: ['lm_loss.weight', 'lm_loss.bias']\n",
      "- This IS expected if you are initializing XLNetModel from the checkpoint of a model trained on another task or with another architecture (e.g. initializing a BertForSequenceClassification model from a BertForPreTraining model).\n",
      "- This IS NOT expected if you are initializing XLNetModel from the checkpoint of a model that you expect to be exactly identical (initializing a BertForSequenceClassification model from a BertForSequenceClassification model).\n"
     ]
    },
    {
     "data": {
      "application/vnd.jupyter.widget-view+json": {
       "model_id": "752725e4f359427188d9a885611f3e24",
       "version_major": 2,
       "version_minor": 0
      },
      "text/plain": [
       "Downloading:   0%|          | 0.00/779k [00:00<?, ?B/s]"
      ]
     },
     "metadata": {},
     "output_type": "display_data"
    },
    {
     "name": "stderr",
     "output_type": "stream",
     "text": [
      "Some weights of the model checkpoint at xlnet-base-cased were not used when initializing XLNetModel: ['lm_loss.weight', 'lm_loss.bias']\n",
      "- This IS expected if you are initializing XLNetModel from the checkpoint of a model trained on another task or with another architecture (e.g. initializing a BertForSequenceClassification model from a BertForPreTraining model).\n",
      "- This IS NOT expected if you are initializing XLNetModel from the checkpoint of a model that you expect to be exactly identical (initializing a BertForSequenceClassification model from a BertForSequenceClassification model).\n"
     ]
    }
   ],
   "source": [
    "xlnet_summary = []\n",
    "for i in range(len(bodies)):\n",
    "    model = TransformerSummarizer(transformer_type=\"XLNet\",transformer_model_key=\"xlnet-base-cased\")\n",
    "    xlnet_summary.append(''.join(model(bodies[i], min_length=min_length_text)))"
   ]
  },
  {
   "cell_type": "code",
   "execution_count": 18,
   "id": "86b20f65",
   "metadata": {},
   "outputs": [
    {
     "name": "stdout",
     "output_type": "stream",
     "text": [
      "\n",
      "XLNet Summarizing Result:\n",
      "In the Southern Bug basin wastewater is discharged from 341 organized sources (Map 5). This amount is distributed as follows: urban and rural housing wastewater treatment facilities (WWTPs - vodocanals) – 70 mln.\n",
      "\n",
      "XLNet Summarizing Result:\n",
      "Despite the similar volumes of discharged wastewater major part of pollutants comes with communal WWTPs. Of the 92 urban areas only 51 localities (55%) have centralized collection of communal waste waters and their monitoring.\n"
     ]
    }
   ],
   "source": [
    "for i in range(len(bodies)):\n",
    "    print(\"\\nXLNet Summarizing Result:\")\n",
    "    print(xlnet_summary[i])"
   ]
  },
  {
   "cell_type": "code",
   "execution_count": null,
   "id": "f2c5177d",
   "metadata": {},
   "outputs": [],
   "source": []
  }
 ],
 "metadata": {
  "kernelspec": {
   "display_name": "Python 3 (ipykernel)",
   "language": "python",
   "name": "python3"
  },
  "language_info": {
   "codemirror_mode": {
    "name": "ipython",
    "version": 3
   },
   "file_extension": ".py",
   "mimetype": "text/x-python",
   "name": "python",
   "nbconvert_exporter": "python",
   "pygments_lexer": "ipython3",
   "version": "3.9.7"
  }
 },
 "nbformat": 4,
 "nbformat_minor": 5
}
