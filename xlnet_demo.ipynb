{
 "cells": [
  {
   "cell_type": "code",
   "execution_count": 1,
   "id": "666e204a",
   "metadata": {},
   "outputs": [
    {
     "name": "stdout",
     "output_type": "stream",
     "text": [
      "Requirement already satisfied: torch in ./anaconda3/lib/python3.9/site-packages (1.10.2)\r\n",
      "Requirement already satisfied: torchvision in ./anaconda3/lib/python3.9/site-packages (0.11.3)\r\n",
      "Requirement already satisfied: torchaudio in ./anaconda3/lib/python3.9/site-packages (0.10.2)\r\n",
      "Requirement already satisfied: typing-extensions in ./anaconda3/lib/python3.9/site-packages (from torch) (3.10.0.2)\r\n",
      "Requirement already satisfied: pillow!=8.3.0,>=5.3.0 in ./anaconda3/lib/python3.9/site-packages (from torchvision) (8.4.0)\r\n",
      "Requirement already satisfied: numpy in ./anaconda3/lib/python3.9/site-packages (from torchvision) (1.20.3)\r\n"
     ]
    }
   ],
   "source": [
    "!pip install torch torchvision torchaudio"
   ]
  },
  {
   "cell_type": "code",
   "execution_count": 2,
   "id": "2d828fe3",
   "metadata": {},
   "outputs": [
    {
     "name": "stdout",
     "output_type": "stream",
     "text": [
      "Requirement already satisfied: transformers in ./anaconda3/lib/python3.9/site-packages (4.16.2)\n",
      "Requirement already satisfied: requests in ./anaconda3/lib/python3.9/site-packages (from transformers) (2.26.0)\n",
      "Requirement already satisfied: huggingface-hub<1.0,>=0.1.0 in ./anaconda3/lib/python3.9/site-packages (from transformers) (0.4.0)\n",
      "Requirement already satisfied: tokenizers!=0.11.3,>=0.10.1 in ./anaconda3/lib/python3.9/site-packages (from transformers) (0.11.5)\n",
      "Requirement already satisfied: pyyaml>=5.1 in ./anaconda3/lib/python3.9/site-packages (from transformers) (6.0)\n",
      "Requirement already satisfied: tqdm>=4.27 in ./anaconda3/lib/python3.9/site-packages (from transformers) (4.62.3)\n",
      "Requirement already satisfied: filelock in ./anaconda3/lib/python3.9/site-packages (from transformers) (3.3.1)\n",
      "Requirement already satisfied: sacremoses in ./anaconda3/lib/python3.9/site-packages (from transformers) (0.0.47)\n",
      "Requirement already satisfied: regex!=2019.12.17 in ./anaconda3/lib/python3.9/site-packages (from transformers) (2021.8.3)\n",
      "Requirement already satisfied: numpy>=1.17 in ./anaconda3/lib/python3.9/site-packages (from transformers) (1.20.3)\n",
      "Requirement already satisfied: packaging>=20.0 in ./anaconda3/lib/python3.9/site-packages (from transformers) (21.0)\n",
      "Requirement already satisfied: typing-extensions>=3.7.4.3 in ./anaconda3/lib/python3.9/site-packages (from huggingface-hub<1.0,>=0.1.0->transformers) (3.10.0.2)\n",
      "Requirement already satisfied: pyparsing>=2.0.2 in ./anaconda3/lib/python3.9/site-packages (from packaging>=20.0->transformers) (3.0.4)\n",
      "Requirement already satisfied: certifi>=2017.4.17 in ./anaconda3/lib/python3.9/site-packages (from requests->transformers) (2021.10.8)\n",
      "Requirement already satisfied: urllib3<1.27,>=1.21.1 in ./anaconda3/lib/python3.9/site-packages (from requests->transformers) (1.26.7)\n",
      "Requirement already satisfied: charset-normalizer~=2.0.0 in ./anaconda3/lib/python3.9/site-packages (from requests->transformers) (2.0.4)\n",
      "Requirement already satisfied: idna<4,>=2.5 in ./anaconda3/lib/python3.9/site-packages (from requests->transformers) (3.2)\n",
      "Requirement already satisfied: six in ./anaconda3/lib/python3.9/site-packages (from sacremoses->transformers) (1.16.0)\n",
      "Requirement already satisfied: click in ./anaconda3/lib/python3.9/site-packages (from sacremoses->transformers) (8.0.3)\n",
      "Requirement already satisfied: joblib in ./anaconda3/lib/python3.9/site-packages (from sacremoses->transformers) (1.1.0)\n"
     ]
    }
   ],
   "source": [
    "# Install Transformers\n",
    "!pip install transformers\n"
   ]
  },
  {
   "cell_type": "code",
   "execution_count": 4,
   "id": "80b1046a",
   "metadata": {},
   "outputs": [
    {
     "name": "stdout",
     "output_type": "stream",
     "text": [
      "Collecting spacy\n",
      "  Downloading spacy-3.2.3-cp39-cp39-macosx_10_9_x86_64.whl (6.3 MB)\n",
      "\u001b[K     |████████████████████████████████| 6.3 MB 4.1 MB/s eta 0:00:01\n",
      "\u001b[?25hCollecting catalogue<2.1.0,>=2.0.6\n",
      "  Downloading catalogue-2.0.7-py3-none-any.whl (17 kB)\n",
      "Requirement already satisfied: packaging>=20.0 in ./anaconda3/lib/python3.9/site-packages (from spacy) (21.0)\n",
      "Collecting blis<0.8.0,>=0.4.0\n",
      "  Downloading blis-0.7.7-cp39-cp39-macosx_10_9_x86_64.whl (5.8 MB)\n",
      "\u001b[K     |████████████████████████████████| 5.8 MB 6.3 MB/s eta 0:00:01\n",
      "\u001b[?25hRequirement already satisfied: setuptools in ./anaconda3/lib/python3.9/site-packages (from spacy) (58.0.4)\n",
      "Collecting cymem<2.1.0,>=2.0.2\n",
      "  Downloading cymem-2.0.6-cp39-cp39-macosx_10_9_x86_64.whl (32 kB)\n",
      "Collecting typer<0.5.0,>=0.3.0\n",
      "  Downloading typer-0.4.0-py3-none-any.whl (27 kB)\n",
      "Collecting langcodes<4.0.0,>=3.2.0\n",
      "  Downloading langcodes-3.3.0-py3-none-any.whl (181 kB)\n",
      "\u001b[K     |████████████████████████████████| 181 kB 8.9 MB/s eta 0:00:01\n",
      "\u001b[?25hCollecting pydantic!=1.8,!=1.8.1,<1.9.0,>=1.7.4\n",
      "  Downloading pydantic-1.8.2-cp39-cp39-macosx_10_9_x86_64.whl (2.7 MB)\n",
      "\u001b[K     |████████████████████████████████| 2.7 MB 5.1 MB/s eta 0:00:01\n",
      "\u001b[?25hCollecting wasabi<1.1.0,>=0.8.1\n",
      "  Downloading wasabi-0.9.0-py3-none-any.whl (25 kB)\n",
      "Collecting thinc<8.1.0,>=8.0.12\n",
      "  Downloading thinc-8.0.15-cp39-cp39-macosx_10_9_x86_64.whl (639 kB)\n",
      "\u001b[K     |████████████████████████████████| 639 kB 5.0 MB/s eta 0:00:01\n",
      "\u001b[?25hRequirement already satisfied: jinja2 in ./anaconda3/lib/python3.9/site-packages (from spacy) (2.11.3)\n",
      "Collecting pathy>=0.3.5\n",
      "  Downloading pathy-0.6.1-py3-none-any.whl (42 kB)\n",
      "\u001b[K     |████████████████████████████████| 42 kB 2.4 MB/s eta 0:00:01\n",
      "\u001b[?25hCollecting murmurhash<1.1.0,>=0.28.0\n",
      "  Downloading murmurhash-1.0.6-cp39-cp39-macosx_10_9_x86_64.whl (18 kB)\n",
      "Requirement already satisfied: numpy>=1.15.0 in ./anaconda3/lib/python3.9/site-packages (from spacy) (1.20.3)\n",
      "Collecting preshed<3.1.0,>=3.0.2\n",
      "  Downloading preshed-3.0.6-cp39-cp39-macosx_10_9_x86_64.whl (106 kB)\n",
      "\u001b[K     |████████████████████████████████| 106 kB 10.9 MB/s eta 0:00:01\n",
      "\u001b[?25hCollecting spacy-loggers<2.0.0,>=1.0.0\n",
      "  Downloading spacy_loggers-1.0.1-py3-none-any.whl (7.0 kB)\n",
      "Collecting srsly<3.0.0,>=2.4.1\n",
      "  Downloading srsly-2.4.2-cp39-cp39-macosx_10_9_x86_64.whl (452 kB)\n",
      "\u001b[K     |████████████████████████████████| 452 kB 6.2 MB/s eta 0:00:01\n",
      "\u001b[?25hRequirement already satisfied: tqdm<5.0.0,>=4.38.0 in ./anaconda3/lib/python3.9/site-packages (from spacy) (4.62.3)\n",
      "Requirement already satisfied: requests<3.0.0,>=2.13.0 in ./anaconda3/lib/python3.9/site-packages (from spacy) (2.26.0)\n",
      "Collecting spacy-legacy<3.1.0,>=3.0.8\n",
      "  Downloading spacy_legacy-3.0.9-py2.py3-none-any.whl (20 kB)\n",
      "Requirement already satisfied: pyparsing>=2.0.2 in ./anaconda3/lib/python3.9/site-packages (from packaging>=20.0->spacy) (3.0.4)\n",
      "Collecting smart-open<6.0.0,>=5.0.0\n",
      "  Downloading smart_open-5.2.1-py3-none-any.whl (58 kB)\n",
      "\u001b[K     |████████████████████████████████| 58 kB 11.9 MB/s eta 0:00:01\n",
      "\u001b[?25hRequirement already satisfied: typing-extensions>=3.7.4.3 in ./anaconda3/lib/python3.9/site-packages (from pydantic!=1.8,!=1.8.1,<1.9.0,>=1.7.4->spacy) (3.10.0.2)\n",
      "Requirement already satisfied: charset-normalizer~=2.0.0 in ./anaconda3/lib/python3.9/site-packages (from requests<3.0.0,>=2.13.0->spacy) (2.0.4)\n",
      "Requirement already satisfied: urllib3<1.27,>=1.21.1 in ./anaconda3/lib/python3.9/site-packages (from requests<3.0.0,>=2.13.0->spacy) (1.26.7)\n",
      "Requirement already satisfied: certifi>=2017.4.17 in ./anaconda3/lib/python3.9/site-packages (from requests<3.0.0,>=2.13.0->spacy) (2021.10.8)\n",
      "Requirement already satisfied: idna<4,>=2.5 in ./anaconda3/lib/python3.9/site-packages (from requests<3.0.0,>=2.13.0->spacy) (3.2)\n",
      "Requirement already satisfied: click<9.0.0,>=7.1.1 in ./anaconda3/lib/python3.9/site-packages (from typer<0.5.0,>=0.3.0->spacy) (8.0.3)\n",
      "Requirement already satisfied: MarkupSafe>=0.23 in ./anaconda3/lib/python3.9/site-packages (from jinja2->spacy) (1.1.1)\n",
      "Installing collected packages: murmurhash, cymem, catalogue, wasabi, typer, srsly, smart-open, pydantic, preshed, blis, thinc, spacy-loggers, spacy-legacy, pathy, langcodes, spacy\n",
      "Successfully installed blis-0.7.7 catalogue-2.0.7 cymem-2.0.6 langcodes-3.3.0 murmurhash-1.0.6 pathy-0.6.1 preshed-3.0.6 pydantic-1.8.2 smart-open-5.2.1 spacy-3.2.3 spacy-legacy-3.0.9 spacy-loggers-1.0.1 srsly-2.4.2 thinc-8.0.15 typer-0.4.0 wasabi-0.9.0\n"
     ]
    }
   ],
   "source": [
    "!pip install spacy"
   ]
  },
  {
   "cell_type": "code",
   "execution_count": 32,
   "id": "c959b225",
   "metadata": {},
   "outputs": [
    {
     "name": "stdout",
     "output_type": "stream",
     "text": [
      "Collecting bert-extractive-summarizer\n",
      "  Downloading bert_extractive_summarizer-0.10.1-py3-none-any.whl (25 kB)\n",
      "Requirement already satisfied: scikit-learn in ./anaconda3/lib/python3.9/site-packages (from bert-extractive-summarizer) (0.24.2)\n",
      "Requirement already satisfied: spacy in ./anaconda3/lib/python3.9/site-packages (from bert-extractive-summarizer) (3.2.3)\n",
      "Requirement already satisfied: transformers in ./anaconda3/lib/python3.9/site-packages (from bert-extractive-summarizer) (4.16.2)\n",
      "Requirement already satisfied: threadpoolctl>=2.0.0 in ./anaconda3/lib/python3.9/site-packages (from scikit-learn->bert-extractive-summarizer) (2.2.0)\n",
      "Requirement already satisfied: scipy>=0.19.1 in ./anaconda3/lib/python3.9/site-packages (from scikit-learn->bert-extractive-summarizer) (1.7.1)\n",
      "Requirement already satisfied: numpy>=1.13.3 in ./anaconda3/lib/python3.9/site-packages (from scikit-learn->bert-extractive-summarizer) (1.20.3)\n",
      "Requirement already satisfied: joblib>=0.11 in ./anaconda3/lib/python3.9/site-packages (from scikit-learn->bert-extractive-summarizer) (1.1.0)\n",
      "Requirement already satisfied: catalogue<2.1.0,>=2.0.6 in ./anaconda3/lib/python3.9/site-packages (from spacy->bert-extractive-summarizer) (2.0.7)\n",
      "Requirement already satisfied: setuptools in ./anaconda3/lib/python3.9/site-packages (from spacy->bert-extractive-summarizer) (58.0.4)\n",
      "Requirement already satisfied: murmurhash<1.1.0,>=0.28.0 in ./anaconda3/lib/python3.9/site-packages (from spacy->bert-extractive-summarizer) (1.0.6)\n",
      "Requirement already satisfied: requests<3.0.0,>=2.13.0 in ./anaconda3/lib/python3.9/site-packages (from spacy->bert-extractive-summarizer) (2.26.0)\n",
      "Requirement already satisfied: jinja2 in ./anaconda3/lib/python3.9/site-packages (from spacy->bert-extractive-summarizer) (2.11.3)\n",
      "Requirement already satisfied: preshed<3.1.0,>=3.0.2 in ./anaconda3/lib/python3.9/site-packages (from spacy->bert-extractive-summarizer) (3.0.6)\n",
      "Requirement already satisfied: wasabi<1.1.0,>=0.8.1 in ./anaconda3/lib/python3.9/site-packages (from spacy->bert-extractive-summarizer) (0.9.0)\n",
      "Requirement already satisfied: tqdm<5.0.0,>=4.38.0 in ./anaconda3/lib/python3.9/site-packages (from spacy->bert-extractive-summarizer) (4.62.3)\n",
      "Requirement already satisfied: packaging>=20.0 in ./anaconda3/lib/python3.9/site-packages (from spacy->bert-extractive-summarizer) (21.0)\n",
      "Requirement already satisfied: blis<0.8.0,>=0.4.0 in ./anaconda3/lib/python3.9/site-packages (from spacy->bert-extractive-summarizer) (0.7.7)\n",
      "Requirement already satisfied: typer<0.5.0,>=0.3.0 in ./anaconda3/lib/python3.9/site-packages (from spacy->bert-extractive-summarizer) (0.4.0)\n",
      "Requirement already satisfied: cymem<2.1.0,>=2.0.2 in ./anaconda3/lib/python3.9/site-packages (from spacy->bert-extractive-summarizer) (2.0.6)\n",
      "Requirement already satisfied: thinc<8.1.0,>=8.0.12 in ./anaconda3/lib/python3.9/site-packages (from spacy->bert-extractive-summarizer) (8.0.15)\n",
      "Requirement already satisfied: spacy-loggers<2.0.0,>=1.0.0 in ./anaconda3/lib/python3.9/site-packages (from spacy->bert-extractive-summarizer) (1.0.1)\n",
      "Requirement already satisfied: srsly<3.0.0,>=2.4.1 in ./anaconda3/lib/python3.9/site-packages (from spacy->bert-extractive-summarizer) (2.4.2)\n",
      "Requirement already satisfied: spacy-legacy<3.1.0,>=3.0.8 in ./anaconda3/lib/python3.9/site-packages (from spacy->bert-extractive-summarizer) (3.0.9)\n",
      "Requirement already satisfied: pathy>=0.3.5 in ./anaconda3/lib/python3.9/site-packages (from spacy->bert-extractive-summarizer) (0.6.1)\n",
      "Requirement already satisfied: langcodes<4.0.0,>=3.2.0 in ./anaconda3/lib/python3.9/site-packages (from spacy->bert-extractive-summarizer) (3.3.0)\n",
      "Requirement already satisfied: pydantic!=1.8,!=1.8.1,<1.9.0,>=1.7.4 in ./anaconda3/lib/python3.9/site-packages (from spacy->bert-extractive-summarizer) (1.8.2)\n",
      "Requirement already satisfied: pyparsing>=2.0.2 in ./anaconda3/lib/python3.9/site-packages (from packaging>=20.0->spacy->bert-extractive-summarizer) (3.0.4)\n",
      "Requirement already satisfied: smart-open<6.0.0,>=5.0.0 in ./anaconda3/lib/python3.9/site-packages (from pathy>=0.3.5->spacy->bert-extractive-summarizer) (5.2.1)\n",
      "Requirement already satisfied: typing-extensions>=3.7.4.3 in ./anaconda3/lib/python3.9/site-packages (from pydantic!=1.8,!=1.8.1,<1.9.0,>=1.7.4->spacy->bert-extractive-summarizer) (3.10.0.2)\n",
      "Requirement already satisfied: urllib3<1.27,>=1.21.1 in ./anaconda3/lib/python3.9/site-packages (from requests<3.0.0,>=2.13.0->spacy->bert-extractive-summarizer) (1.26.7)\n",
      "Requirement already satisfied: certifi>=2017.4.17 in ./anaconda3/lib/python3.9/site-packages (from requests<3.0.0,>=2.13.0->spacy->bert-extractive-summarizer) (2021.10.8)\n",
      "Requirement already satisfied: charset-normalizer~=2.0.0 in ./anaconda3/lib/python3.9/site-packages (from requests<3.0.0,>=2.13.0->spacy->bert-extractive-summarizer) (2.0.4)\n",
      "Requirement already satisfied: idna<4,>=2.5 in ./anaconda3/lib/python3.9/site-packages (from requests<3.0.0,>=2.13.0->spacy->bert-extractive-summarizer) (3.2)\n",
      "Requirement already satisfied: click<9.0.0,>=7.1.1 in ./anaconda3/lib/python3.9/site-packages (from typer<0.5.0,>=0.3.0->spacy->bert-extractive-summarizer) (8.0.3)\n",
      "Requirement already satisfied: MarkupSafe>=0.23 in ./anaconda3/lib/python3.9/site-packages (from jinja2->spacy->bert-extractive-summarizer) (1.1.1)\n",
      "Requirement already satisfied: filelock in ./anaconda3/lib/python3.9/site-packages (from transformers->bert-extractive-summarizer) (3.3.1)\n",
      "Requirement already satisfied: sacremoses in ./anaconda3/lib/python3.9/site-packages (from transformers->bert-extractive-summarizer) (0.0.47)\n",
      "Requirement already satisfied: huggingface-hub<1.0,>=0.1.0 in ./anaconda3/lib/python3.9/site-packages (from transformers->bert-extractive-summarizer) (0.4.0)\n",
      "Requirement already satisfied: pyyaml>=5.1 in ./anaconda3/lib/python3.9/site-packages (from transformers->bert-extractive-summarizer) (6.0)\n",
      "Requirement already satisfied: regex!=2019.12.17 in ./anaconda3/lib/python3.9/site-packages (from transformers->bert-extractive-summarizer) (2021.8.3)\n",
      "Requirement already satisfied: tokenizers!=0.11.3,>=0.10.1 in ./anaconda3/lib/python3.9/site-packages (from transformers->bert-extractive-summarizer) (0.11.5)\n",
      "Requirement already satisfied: six in ./anaconda3/lib/python3.9/site-packages (from sacremoses->transformers->bert-extractive-summarizer) (1.16.0)\n",
      "Installing collected packages: bert-extractive-summarizer\n",
      "Successfully installed bert-extractive-summarizer-0.10.1\n"
     ]
    }
   ],
   "source": [
    "!pip install bert-extractive-summarizer\n"
   ]
  },
  {
   "cell_type": "code",
   "execution_count": 8,
   "id": "cb6234c2",
   "metadata": {},
   "outputs": [
    {
     "name": "stdout",
     "output_type": "stream",
     "text": [
      "Requirement already satisfied: sentencepiece in ./anaconda3/lib/python3.9/site-packages (0.1.96)\r\n"
     ]
    }
   ],
   "source": [
    "#Sentence Piece\n",
    "!pip install sentencepiece"
   ]
  },
  {
   "cell_type": "code",
   "execution_count": 54,
   "id": "b96af557",
   "metadata": {},
   "outputs": [],
   "source": [
    "import warnings\n",
    "warnings.filterwarnings('ignore')"
   ]
  },
  {
   "cell_type": "code",
   "execution_count": 56,
   "id": "6e8b791f",
   "metadata": {},
   "outputs": [],
   "source": [
    "text=\"\"\"A wildfire, forest fire, bushfire, wildland fire or rural fire is an unplanned, uncontrolled fire in an area of combustible vegetation starting in rural and urban areas.[1][2] Some forest ecosystems in their natural state depend on wildfire. [3] Depending on the type of vegetation present, a wildfire can also be classified more specifically as a forest fire, brush fire, bushfire (in Australia), desert fire, grass fire, hill fire, peat fire, prairie fire, vegetation fire, or veld fire.[4] Wildfires are distinct from beneficial uses of fire, called controlled burns; though controlled burns can turn into wildfires.\n",
    "\n",
    "Fossil charcoal indicates that wildfires began soon after the appearance of terrestrial plants 420 million years ago.[5] The occurrence of wildfires throughout the history of terrestrial life invites conjecture that fire must have had pronounced evolutionary effects on most ecosystems' flora and fauna.[6] Earth's carbon-rich vegetation, seasonally dry climates, atmospheric oxygen, and widespread lightning and volcanic ignitions create good conditions for fires.[6]\n",
    "\n",
    "Wildfires are often classified by characteristics like cause of ignition, physical properties, combustible material present, and the effect of weather on the fire.[7] Wildfire behavior and severity result from a combination of factors such as available fuels, physical setting, and weather.[8][9][10][11] Climatic cycles that include wet periods that create substantial fuels and then are followed by drought and heat often proceed severe wildfires. [12] These cycles are made worse by extreme weather caused by climate change.[13]\n",
    "\n",
    "Wildfires can cause damage to property and human life, although naturally occurring wildfires[14] may have beneficial effects on native vegetation, animals, and ecosystems that have evolved with fire.[15][16] High-severity wildfire creates complex early seral forest habitat (also called \"snag forest habitat\"), which often has higher species richness and diversity than an unburned old forest. Many plant species depend on the effects of fire for growth and reproduction.[17] Wildfires in ecosystems where wildfire is uncommon or where non-native vegetation has encroached may have strongly negative ecological effects.[7] Similarly, human societies are can be severely impacted by fires, including direct health impacts of smoke, destruction of property, especially in wildland–urban interfaces, economic and ecosystem services losses, and contamination of water and soil.[13]\n",
    "\n",
    "Wildfires are among the most common forms of natural disaster in some regions, including Siberia, California, and Australia.[18][19][20] Areas with Mediterranean climates or in the taiga biome are particularly susceptible. At a global level, human practices have made wildfires worse than naturally would happen, with a doubling in land area burned by wildfires when compared to natural levels.[13] Humans have contributed to major factors to increased wildfires, increased heat and dry periods due to climate change and other more direct human activities, such as land-use change and wildfire suppression.[13] This increase in fires, creates a negative feedback loop releasing naturally sequestered carbon back into the atmosphere, creating further global warming.[13]\n",
    "\n",
    "Aggressive wildfire suppression aimed at minimizing fire and ending traditional land management methods practiced by indigenous peoples has contributed to accumulation of fuel loads, increasing the risk of large, catastrophic fires, especially in certain colonial contexts like the United States.[21][22][23][24][25][26][27][28][29] [30][31][32] Modern forest management taking an ecological perspective engages in controlled burns to mitigate this risk and promote natural forest life cycles.\"\"\""
   ]
  },
  {
   "cell_type": "code",
   "execution_count": null,
   "id": "16279a82",
   "metadata": {},
   "outputs": [],
   "source": [
    "\n"
   ]
  },
  {
   "cell_type": "code",
   "execution_count": 57,
   "id": "7fa75288",
   "metadata": {},
   "outputs": [],
   "source": [
    "from summarizer import Summarizer,TransformerSummarizer"
   ]
  },
  {
   "cell_type": "code",
   "execution_count": 59,
   "id": "391072d8",
   "metadata": {
    "scrolled": true
   },
   "outputs": [
    {
     "name": "stderr",
     "output_type": "stream",
     "text": [
      "Some weights of the model checkpoint at xlnet-base-cased were not used when initializing XLNetModel: ['lm_loss.bias', 'lm_loss.weight']\n",
      "- This IS expected if you are initializing XLNetModel from the checkpoint of a model trained on another task or with another architecture (e.g. initializing a BertForSequenceClassification model from a BertForPreTraining model).\n",
      "- This IS NOT expected if you are initializing XLNetModel from the checkpoint of a model that you expect to be exactly identical (initializing a BertForSequenceClassification model from a BertForSequenceClassification model).\n"
     ]
    },
    {
     "name": "stdout",
     "output_type": "stream",
     "text": [
      "A wildfire, forest fire, bushfire, wildland fire or rural fire is an unplanned, uncontrolled fire in an area of combustible vegetation starting in rural and urban areas.[1][2] Some forest ecosystems in their natural state depend on wildfire. [ 3] Depending on the type of vegetation present, a wildfire can also be classified more specifically as a forest fire, brush fire, bushfire (in Australia), desert fire, grass fire, hill fire, peat fire, prairie fire, vegetation fire, or veld fire.[4] Wildfires are distinct from beneficial uses of fire, called controlled burns; though controlled burns can turn into wildfires.\n"
     ]
    }
   ],
   "source": [
    "model = TransformerSummarizer(transformer_type=\"XLNet\",transformer_model_key=\"xlnet-base-cased\")\n",
    "full = ''.join(model(text, min_length=60))\n",
    "print(full)\n"
   ]
  },
  {
   "cell_type": "code",
   "execution_count": null,
   "id": "f7f703d5",
   "metadata": {},
   "outputs": [],
   "source": []
  },
  {
   "cell_type": "code",
   "execution_count": null,
   "id": "f80c0a07",
   "metadata": {},
   "outputs": [],
   "source": []
  }
 ],
 "metadata": {
  "kernelspec": {
   "display_name": "Python 3 (ipykernel)",
   "language": "python",
   "name": "python3"
  },
  "language_info": {
   "codemirror_mode": {
    "name": "ipython",
    "version": 3
   },
   "file_extension": ".py",
   "mimetype": "text/x-python",
   "name": "python",
   "nbconvert_exporter": "python",
   "pygments_lexer": "ipython3",
   "version": "3.9.7"
  }
 },
 "nbformat": 4,
 "nbformat_minor": 5
}
